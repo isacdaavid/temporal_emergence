{
 "cells": [
  {
   "cell_type": "code",
   "execution_count": 4,
   "metadata": {
    "collapsed": false
   },
   "outputs": [
    {
     "name": "stdout",
     "output_type": "stream",
     "text": [
      "[[0.64333333 0.00333333 0.35       0.00333333]\n",
      " [0.575      0.         0.41       0.015     ]\n",
      " [0.40555556 0.00111111 0.58722222 0.00611111]\n",
      " [0.51       0.00333333 0.47666667 0.01      ]]\n",
      "Network([[0.64333333 0.00333333 0.35       0.00333333]\n",
      " [0.575      0.         0.41       0.015     ]\n",
      " [0.40555556 0.00111111 0.58722222 0.00611111]\n",
      " [0.51       0.00333333 0.47666667 0.01      ]], cm=[[1. 1.]\n",
      " [1. 1.]])\n"
     ]
    },
    {
     "name": "stderr",
     "output_type": "stream",
     "text": [
      "\r",
      "Computing concepts:   0% 0/3 [00:00<?, ?it/s]"
     ]
    },
    {
     "name": "stderr",
     "output_type": "stream",
     "text": [
      "\r",
      "Computing concepts:  33% 1/3 [00:00<00:00,  4.99it/s]"
     ]
    },
    {
     "name": "stderr",
     "output_type": "stream",
     "text": [
      "\r",
      "                                                     "
     ]
    },
    {
     "name": "stderr",
     "output_type": "stream",
     "text": [
      "\r"
     ]
    },
    {
     "name": "stderr",
     "output_type": "stream",
     "text": [
      "\r",
      "Evaluating Φ cuts:   0% 0/2 [00:00<?, ?it/s]"
     ]
    },
    {
     "name": "stderr",
     "output_type": "stream",
     "text": [
      "\r",
      "Evaluating Φ cuts:  50% 1/2 [00:00<00:00,  3.82it/s]"
     ]
    },
    {
     "name": "stderr",
     "output_type": "stream",
     "text": [
      "\r",
      "                                                    "
     ]
    },
    {
     "name": "stderr",
     "output_type": "stream",
     "text": [
      "\r"
     ]
    },
    {
     "name": "stdout",
     "output_type": "stream",
     "text": [
      "════════════════════════════════════════════════════════════\n",
      "            Cause-effect structure (3 concepts)             \n",
      "════════════════════════════════════════════════════════════\n",
      "  ━━━━━━━━━━━━━━━━━━━━━━━━━━━━━━━━━━━━━━━━━━━━━━━━━━━━━━━━  \n",
      "           Concept: Mechanism = [A], φ = 0.002637           \n",
      "  ━━━━━━━━━━━━━━━━━━━━━━━━━━━━━━━━━━━━━━━━━━━━━━━━━━━━━━━━  \n",
      "              MIC                         MIE               \n",
      "  ┌──────────────────────────┐┌──────────────────────────┐  \n",
      "  │  φ = 0.002637            ││  φ = 0.015124            │  \n",
      "  │  Purview = [A]           ││  Purview = [A, B]        │  \n",
      "  │  MIP:                    ││  MIP:                    │  \n",
      "  │     A     ∅              ││     A     ∅              │  \n",
      "  │    ─── ✕ ───             ││    ─── ✕ ───             │  \n",
      "  │     ∅     A              ││     ∅    A,B             │  \n",
      "  │  Repertoire:             ││  Repertoire:             │  \n",
      "  │    ┌────────────────┐    ││    ┌───────────────────┐ │  \n",
      "  │    │ S    Pr(S)     │    ││    │ S     Pr(S)       │ │  \n",
      "  │    │ ╴╴╴╴╴╴╴╴╴╴╴╴╴╴ │    ││    │ ╴╴╴╴╴╴╴╴╴╴╴╴╴╴╴╴╴ │ │  \n",
      "  │    │ 0    0.501825  │    ││    │ 00    0.523009    │ │  \n",
      "  │    │ 1    0.498175  │    ││    │ 10    0.00365741  │ │  \n",
      "  │    └────────────────┘    ││    │ 01    0.470046    │ │  \n",
      "  │  Partitioned repertoire: ││    │ 11    0.00328704  │ │  \n",
      "  │    ┌─────────────┐       ││    └───────────────────┘ │  \n",
      "  │    │ S    Pr(S)  │       ││  Partitioned repertoire: │  \n",
      "  │    │ ╴╴╴╴╴╴╴╴╴╴╴ │       ││    ┌───────────────────┐ │  \n",
      "  │    │ 0    1/2    │       ││    │ S     Pr(S)       │ │  \n",
      "  │    │ 1    1/2    │       ││    │ ╴╴╴╴╴╴╴╴╴╴╴╴╴╴╴╴╴ │ │  \n",
      "  │    └─────────────┘       ││    │ 00    0.529765    │ │  \n",
      "  └──────────────────────────┘│    │ 10    0.00565162  │ │  \n",
      "                              │    │ 01    0.459679    │ │  \n",
      "                              │    │ 11    0.00490394  │ │  \n",
      "                              │    └───────────────────┘ │  \n",
      "                              └──────────────────────────┘  \n",
      "    \n",
      "  ━━━━━━━━━━━━━━━━━━━━━━━━━━━━━━━━━━━━━━━━━━━━━━━━━━━━━━━━  \n",
      "           Concept: Mechanism = [B], φ = 0.108448           \n",
      "  ━━━━━━━━━━━━━━━━━━━━━━━━━━━━━━━━━━━━━━━━━━━━━━━━━━━━━━━━  \n",
      "              MIC                         MIE               \n",
      "  ┌──────────────────────────┐┌──────────────────────────┐  \n",
      "  │  φ = 0.108448            ││  φ = 0.11613             │  \n",
      "  │  Purview = [B]           ││  Purview = [B]           │  \n",
      "  │  MIP:                    ││  MIP:                    │  \n",
      "  │     B     ∅              ││     B     ∅              │  \n",
      "  │    ─── ✕ ───             ││    ─── ✕ ───             │  \n",
      "  │     ∅     B              ││     ∅     B              │  \n",
      "  │  Repertoire:             ││  Repertoire:             │  \n",
      "  │    ┌────────────────┐    ││    ┌────────────────┐    │  \n",
      "  │    │ S    Pr(S)     │    ││    │ S    Pr(S)     │    │  \n",
      "  │    │ ╴╴╴╴╴╴╴╴╴╴╴╴╴╴ │    ││    │ ╴╴╴╴╴╴╴╴╴╴╴╴╴╴ │    │  \n",
      "  │    │ 0    0.570428  │    ││    │ 0    0.610833  │    │  \n",
      "  │    │ 1    0.429572  │    ││    │ 1    0.389167  │    │  \n",
      "  │    └────────────────┘    ││    └────────────────┘    │  \n",
      "  │  Partitioned repertoire: ││  Partitioned repertoire: │  \n",
      "  │    ┌─────────────┐       ││    ┌────────────────┐    │  \n",
      "  │    │ S    Pr(S)  │       ││    │ S    Pr(S)     │    │  \n",
      "  │    │ ╴╴╴╴╴╴╴╴╴╴╴ │       ││    │ ╴╴╴╴╴╴╴╴╴╴╴╴╴╴ │    │  \n",
      "  │    │ 0    1/2    │       ││    │ 0    0.535417  │    │  \n",
      "  │    │ 1    1/2    │       ││    │ 1    0.464583  │    │  \n",
      "  │    └─────────────┘       ││    └────────────────┘    │  \n",
      "  └──────────────────────────┘└──────────────────────────┘  \n",
      "    \n",
      "  ━━━━━━━━━━━━━━━━━━━━━━━━━━━━━━━━━━━━━━━━━━━━━━━━━━━━━━━━  \n",
      "         Concept: Mechanism = [A, B], φ = 0.002637          \n",
      "  ━━━━━━━━━━━━━━━━━━━━━━━━━━━━━━━━━━━━━━━━━━━━━━━━━━━━━━━━  \n",
      "              MIC                         MIE               \n",
      "  ┌──────────────────────────┐┌──────────────────────────┐  \n",
      "  │  φ = 0.002637            ││  φ = 0.053184            │  \n",
      "  │  Purview = [A]           ││  Purview = [B]           │  \n",
      "  │  MIP:                    ││  MIP:                    │  \n",
      "  │     A     B     ∅        ││     A     B     ∅        │  \n",
      "  │    ─── ✕ ─── ✕ ───       ││    ─── ✕ ─── ✕ ───       │  \n",
      "  │     ∅     A     ∅        ││     ∅     B     ∅        │  \n",
      "  │  Repertoire:             ││  Repertoire:             │  \n",
      "  │    ┌────────────────┐    ││    ┌────────────────┐    │  \n",
      "  │    │ S    Pr(S)     │    ││    │ S    Pr(S)     │    │  \n",
      "  │    │ ╴╴╴╴╴╴╴╴╴╴╴╴╴╴ │    ││    │ ╴╴╴╴╴╴╴╴╴╴╴╴╴╴ │    │  \n",
      "  │    │ 0    0.493653  │    ││    │ 0    0.646667  │    │  \n",
      "  │    │ 1    0.506347  │    ││    │ 1    0.353333  │    │  \n",
      "  │    └────────────────┘    ││    └────────────────┘    │  \n",
      "  │  Partitioned repertoire: ││  Partitioned repertoire: │  \n",
      "  │    ┌────────────────┐    ││    ┌────────────────┐    │  \n",
      "  │    │ S    Pr(S)     │    ││    │ S    Pr(S)     │    │  \n",
      "  │    │ ╴╴╴╴╴╴╴╴╴╴╴╴╴╴ │    ││    │ ╴╴╴╴╴╴╴╴╴╴╴╴╴╴ │    │  \n",
      "  │    │ 0    0.491829  │    ││    │ 0    0.610833  │    │  \n",
      "  │    │ 1    0.508171  │    ││    │ 1    0.389167  │    │  \n",
      "  │    └────────────────┘    ││    └────────────────┘    │  \n",
      "  └──────────────────────────┘└──────────────────────────┘  \n",
      "    \n",
      "\n",
      "════════════════════════════════════════════════════════════\n",
      "            Cause-effect structure (3 concepts)             \n",
      "════════════════════════════════════════════════════════════\n",
      "  ━━━━━━━━━━━━━━━━━━━━━━━━━━━━━━━━━━━━━━━━━━━━━━━━━━━━━━━━  \n",
      "           Concept: Mechanism = [A], φ = 0.002637           \n",
      "  ━━━━━━━━━━━━━━━━━━━━━━━━━━━━━━━━━━━━━━━━━━━━━━━━━━━━━━━━  \n",
      "              MIC                         MIE               \n",
      "  ┌──────────────────────────┐┌──────────────────────────┐  \n",
      "  │  φ = 0.002637            ││  φ = 0.015124            │  \n",
      "  │  Purview = [A]           ││  Purview = [A, B]        │  \n",
      "  │  MIP:                    ││  MIP:                    │  \n",
      "  │     A     ∅              ││     A     ∅              │  \n",
      "  │    ─── ✕ ───             ││    ─── ✕ ───             │  \n",
      "  │     ∅     A              ││     ∅    A,B             │  \n",
      "  │  Repertoire:             ││  Repertoire:             │  \n",
      "  │    ┌────────────────┐    ││    ┌───────────────────┐ │  \n",
      "  │    │ S    Pr(S)     │    ││    │ S     Pr(S)       │ │  \n",
      "  │    │ ╴╴╴╴╴╴╴╴╴╴╴╴╴╴ │    ││    │ ╴╴╴╴╴╴╴╴╴╴╴╴╴╴╴╴╴ │ │  \n",
      "  │    │ 0    0.501825  │    ││    │ 00    0.523009    │ │  \n",
      "  │    │ 1    0.498175  │    ││    │ 10    0.00365741  │ │  \n",
      "  │    └────────────────┘    ││    │ 01    0.470046    │ │  \n",
      "  │  Partitioned repertoire: ││    │ 11    0.00328704  │ │  \n",
      "  │    ┌─────────────┐       ││    └───────────────────┘ │  \n",
      "  │    │ S    Pr(S)  │       ││  Partitioned repertoire: │  \n",
      "  │    │ ╴╴╴╴╴╴╴╴╴╴╴ │       ││    ┌───────────────────┐ │  \n",
      "  │    │ 0    1/2    │       ││    │ S     Pr(S)       │ │  \n",
      "  │    │ 1    1/2    │       ││    │ ╴╴╴╴╴╴╴╴╴╴╴╴╴╴╴╴╴ │ │  \n",
      "  │    └─────────────┘       ││    │ 00    0.529765    │ │  \n",
      "  └──────────────────────────┘│    │ 10    0.00565162  │ │  \n",
      "                              │    │ 01    0.459679    │ │  \n",
      "                              │    │ 11    0.00490394  │ │  \n",
      "                              │    └───────────────────┘ │  \n",
      "                              └──────────────────────────┘  \n",
      "    \n",
      "  ━━━━━━━━━━━━━━━━━━━━━━━━━━━━━━━━━━━━━━━━━━━━━━━━━━━━━━━━  \n",
      "           Concept: Mechanism = [B], φ = 0.108448           \n",
      "  ━━━━━━━━━━━━━━━━━━━━━━━━━━━━━━━━━━━━━━━━━━━━━━━━━━━━━━━━  \n",
      "              MIC                         MIE               \n",
      "  ┌──────────────────────────┐┌──────────────────────────┐  \n",
      "  │  φ = 0.108448            ││  φ = 0.11613             │  \n",
      "  │  Purview = [B]           ││  Purview = [B]           │  \n",
      "  │  MIP:                    ││  MIP:                    │  \n",
      "  │     B     ∅              ││     B     ∅              │  \n",
      "  │    ─── ✕ ───             ││    ─── ✕ ───             │  \n",
      "  │     ∅     B              ││     ∅     B              │  \n",
      "  │  Repertoire:             ││  Repertoire:             │  \n",
      "  │    ┌────────────────┐    ││    ┌────────────────┐    │  \n",
      "  │    │ S    Pr(S)     │    ││    │ S    Pr(S)     │    │  \n",
      "  │    │ ╴╴╴╴╴╴╴╴╴╴╴╴╴╴ │    ││    │ ╴╴╴╴╴╴╴╴╴╴╴╴╴╴ │    │  \n",
      "  │    │ 0    0.570428  │    ││    │ 0    0.610833  │    │  \n",
      "  │    │ 1    0.429572  │    ││    │ 1    0.389167  │    │  \n",
      "  │    └────────────────┘    ││    └────────────────┘    │  \n",
      "  │  Partitioned repertoire: ││  Partitioned repertoire: │  \n",
      "  │    ┌─────────────┐       ││    ┌────────────────┐    │  \n",
      "  │    │ S    Pr(S)  │       ││    │ S    Pr(S)     │    │  \n",
      "  │    │ ╴╴╴╴╴╴╴╴╴╴╴ │       ││    │ ╴╴╴╴╴╴╴╴╴╴╴╴╴╴ │    │  \n",
      "  │    │ 0    1/2    │       ││    │ 0    0.535417  │    │  \n",
      "  │    │ 1    1/2    │       ││    │ 1    0.464583  │    │  \n",
      "  │    └─────────────┘       ││    └────────────────┘    │  \n",
      "  └──────────────────────────┘└──────────────────────────┘  \n",
      "    \n",
      "  ━━━━━━━━━━━━━━━━━━━━━━━━━━━━━━━━━━━━━━━━━━━━━━━━━━━━━━━━  \n",
      "         Concept: Mechanism = [A, B], φ = 0.002637          \n",
      "  ━━━━━━━━━━━━━━━━━━━━━━━━━━━━━━━━━━━━━━━━━━━━━━━━━━━━━━━━  \n",
      "              MIC                         MIE               \n",
      "  ┌──────────────────────────┐┌──────────────────────────┐  \n",
      "  │  φ = 0.002637            ││  φ = 0.053184            │  \n",
      "  │  Purview = [A]           ││  Purview = [B]           │  \n",
      "  │  MIP:                    ││  MIP:                    │  \n",
      "  │     A     B     ∅        ││     A     B     ∅        │  \n",
      "  │    ─── ✕ ─── ✕ ───       ││    ─── ✕ ─── ✕ ───       │  \n",
      "  │     ∅     A     ∅        ││     ∅     B     ∅        │  \n",
      "  │  Repertoire:             ││  Repertoire:             │  \n",
      "  │    ┌────────────────┐    ││    ┌────────────────┐    │  \n",
      "  │    │ S    Pr(S)     │    ││    │ S    Pr(S)     │    │  \n",
      "  │    │ ╴╴╴╴╴╴╴╴╴╴╴╴╴╴ │    ││    │ ╴╴╴╴╴╴╴╴╴╴╴╴╴╴ │    │  \n",
      "  │    │ 0    0.493653  │    ││    │ 0    0.646667  │    │  \n",
      "  │    │ 1    0.506347  │    ││    │ 1    0.353333  │    │  \n",
      "  │    └────────────────┘    ││    └────────────────┘    │  \n",
      "  │  Partitioned repertoire: ││  Partitioned repertoire: │  \n",
      "  │    ┌────────────────┐    ││    ┌────────────────┐    │  \n",
      "  │    │ S    Pr(S)     │    ││    │ S    Pr(S)     │    │  \n",
      "  │    │ ╴╴╴╴╴╴╴╴╴╴╴╴╴╴ │    ││    │ ╴╴╴╴╴╴╴╴╴╴╴╴╴╴ │    │  \n",
      "  │    │ 0    0.491829  │    ││    │ 0    0.610833  │    │  \n",
      "  │    │ 1    0.508171  │    ││    │ 1    0.389167  │    │  \n",
      "  │    └────────────────┘    ││    └────────────────┘    │  \n",
      "  └──────────────────────────┘└──────────────────────────┘  \n",
      "    \n",
      "\n",
      "Cut [B] ━━/ /━━➤ [A]\n"
     ]
    },
    {
     "name": "stderr",
     "output_type": "stream",
     "text": [
      "\r",
      "Computing concepts:   0% 0/3 [00:00<?, ?it/s]"
     ]
    },
    {
     "name": "stderr",
     "output_type": "stream",
     "text": [
      "\r",
      "Computing concepts:  33% 1/3 [00:00<00:00,  6.14it/s]"
     ]
    },
    {
     "name": "stderr",
     "output_type": "stream",
     "text": [
      "\r",
      "                                                     "
     ]
    },
    {
     "name": "stderr",
     "output_type": "stream",
     "text": [
      "\r"
     ]
    },
    {
     "name": "stderr",
     "output_type": "stream",
     "text": [
      "\r",
      "Evaluating Φ cuts:   0% 0/2 [00:00<?, ?it/s]"
     ]
    },
    {
     "name": "stderr",
     "output_type": "stream",
     "text": [
      "\r",
      "Evaluating Φ cuts:  50% 1/2 [00:00<00:00,  3.78it/s]"
     ]
    },
    {
     "name": "stderr",
     "output_type": "stream",
     "text": [
      "\r",
      "                                                    "
     ]
    },
    {
     "name": "stderr",
     "output_type": "stream",
     "text": [
      "\r"
     ]
    },
    {
     "name": "stderr",
     "output_type": "stream",
     "text": [
      "\r",
      "Computing concepts:   0% 0/3 [00:00<?, ?it/s]"
     ]
    },
    {
     "name": "stderr",
     "output_type": "stream",
     "text": [
      "\r",
      "Computing concepts:  33% 1/3 [00:00<00:00,  6.74it/s]"
     ]
    },
    {
     "name": "stderr",
     "output_type": "stream",
     "text": [
      "\r",
      "                                                     "
     ]
    },
    {
     "name": "stderr",
     "output_type": "stream",
     "text": [
      "\r"
     ]
    },
    {
     "name": "stderr",
     "output_type": "stream",
     "text": [
      "\r",
      "Evaluating Φ cuts:   0% 0/2 [00:00<?, ?it/s]"
     ]
    },
    {
     "name": "stderr",
     "output_type": "stream",
     "text": [
      "\r",
      "Evaluating Φ cuts:  50% 1/2 [00:00<00:00,  3.46it/s]"
     ]
    },
    {
     "name": "stderr",
     "output_type": "stream",
     "text": [
      "\r",
      "                                                    "
     ]
    },
    {
     "name": "stderr",
     "output_type": "stream",
     "text": [
      "\r"
     ]
    },
    {
     "name": "stderr",
     "output_type": "stream",
     "text": [
      "\r",
      "Computing concepts:   0% 0/3 [00:00<?, ?it/s]"
     ]
    },
    {
     "name": "stderr",
     "output_type": "stream",
     "text": [
      "\r",
      "Computing concepts:  33% 1/3 [00:00<00:00,  7.13it/s]"
     ]
    },
    {
     "name": "stderr",
     "output_type": "stream",
     "text": [
      "\r",
      "                                                     "
     ]
    },
    {
     "name": "stderr",
     "output_type": "stream",
     "text": [
      "\r"
     ]
    },
    {
     "name": "stderr",
     "output_type": "stream",
     "text": [
      "\r",
      "Evaluating Φ cuts:   0% 0/2 [00:00<?, ?it/s]"
     ]
    },
    {
     "name": "stderr",
     "output_type": "stream",
     "text": [
      "\r",
      "Evaluating Φ cuts:  50% 1/2 [00:00<00:00,  3.52it/s]"
     ]
    },
    {
     "name": "stderr",
     "output_type": "stream",
     "text": [
      "\r",
      "                                                    "
     ]
    },
    {
     "name": "stdout",
     "output_type": "stream",
     "text": [
      "[0.0, 0.0, -0.026519999999999988, 0.00015100000000001224]\n",
      "-0.006592249999999994\n"
     ]
    },
    {
     "name": "stderr",
     "output_type": "stream",
     "text": [
      "\r"
     ]
    }
   ],
   "source": [
    "# tpm of this super phi\n",
    "from temporal_emergence import CoarseGrainer, PhiCalculator, Helpers\n",
    "import pyphi\n",
    "import numpy as np\n",
    "import matplotlib.pyplot as plt\n",
    "import jupyter\n",
    "import seaborn as sns\n",
    "jupyter.textOutputLimit = 0\n",
    "\n",
    "TPM_max_phi = np.loadtxt(\"results/macro_micros_fixed/micro_206_292_occs_200_bin_0.0135875_skip_4.csv\")\n",
    "\n",
    "element_coarse_grainings = [[[0], [1,2,3]], [[0,1,2],[3]], [[0], [1,2], [3]], [[0], [1], [2], [3]]]\n",
    "states, num_states_l = CoarseGrainer.get_state_maps(element_coarse_grainings)\n",
    "\n",
    "TPM_max_phi_coarse_grained = CoarseGrainer.coarse_grain_nonbinary_TPM(TPM_max_phi,states[4], num_states_l[4])\n",
    "\n",
    "network = pyphi.Network(\n",
    "TPM_max_phi_coarse_grained,\n",
    "num_states_per_node=num_states_l[4]\n",
    ")\n",
    "\n",
    "states = Helpers.get_nary_states(2,2)\n",
    "\n",
    "phis = []\n",
    "stored_sia_00 = None\n",
    "for state in states:\n",
    "    subsystem = pyphi.Subsystem(network, state)\n",
    "    sia = pyphi.compute.sia(subsystem)\n",
    "    phis.append(sia.phi)\n",
    "    if state == (0,0):\n",
    "        stored_sia_00 = sia\n",
    "        unpartitioned_ces = sia.ces\n",
    "        print(sia.ces)\n",
    "        print(sia.partitioned_ces)\n",
    "        print(sia.cut)\n",
    "\n",
    "print(phis)\n",
    "print(sum(phis) / len(phis))"
   ]
  },
  {
   "cell_type": "code",
   "execution_count": null,
   "metadata": {
    "collapsed": false
   },
   "outputs": [],
   "source": [
    "### all_16_macro_micros_connected[a][1][5]\n",
    "\"\"\"\n",
    "inp = np.stack(all_16_macro_micros_connected[:,1])\n",
    "print(np.unravel_index(np.nanargmin(inp), inp.shape))\n",
    "print(inp.shape)\n",
    "print(all_16_macro_micros_connected[600,2])\n",
    "print(np.nanmin(inp))\n",
    "print(np.sum(inp < 0))\n",
    "print(np.sum(inp < 1))\n",
    "print(np.sum(inp < 0) / np.sum(inp < 1) * 100)\n",
    "\"\"\""
   ]
  }
 ],
 "metadata": {
  "interpreter": {
   "hash": "5b09300f1aaa29f91518898d289bfe7c6a13e39f5c39de69ed81889dba9d5a76"
  },
  "kernelspec": {
   "argv": [
    "python",
    "-m",
    "ipykernel_launcher",
    "-f",
    "{connection_file}"
   ],
   "display_name": "Python 3 (ipykernel)",
   "env": null,
   "interrupt_mode": "signal",
   "language": "python",
   "metadata": {
    "debugger": true
   },
   "name": "python3"
  },
  "language_info": {
   "codemirror_mode": {
    "name": "ipython",
    "version": 3
   },
   "file_extension": ".py",
   "mimetype": "text/x-python",
   "name": "python",
   "nbconvert_exporter": "python",
   "pygments_lexer": "ipython3",
   "version": "3.7.1"
  },
  "name": "negative_phis.ipynb"
 },
 "nbformat": 4,
 "nbformat_minor": 2
}
