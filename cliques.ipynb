{
 "metadata": {
  "language_info": {
   "codemirror_mode": {
    "name": "ipython",
    "version": 3
   },
   "file_extension": ".py",
   "mimetype": "text/x-python",
   "name": "python",
   "nbconvert_exporter": "python",
   "pygments_lexer": "ipython3",
   "version": "3.7.1"
  },
  "orig_nbformat": 4,
  "kernelspec": {
   "name": "python3",
   "display_name": "Python 3.7.1 64-bit ('base': conda)"
  },
  "interpreter": {
   "hash": "5b09300f1aaa29f91518898d289bfe7c6a13e39f5c39de69ed81889dba9d5a76"
  }
 },
 "nbformat": 4,
 "nbformat_minor": 2,
 "cells": [
  {
   "cell_type": "code",
   "execution_count": 1,
   "metadata": {},
   "outputs": [],
   "source": [
    "import numpy as np\n",
    "import itertools\n",
    "\n",
    "probe1_371 = np.loadtxt(\"results/connectivity_Cori_2016-12-14_probe1/W_py_5400.csv\", delimiter=\",\")"
   ]
  },
  {
   "cell_type": "code",
   "execution_count": 54,
   "metadata": {
    "tags": []
   },
   "outputs": [
    {
     "output_type": "stream",
     "name": "stdout",
     "text": [
      "(88731, 3)\n",
      "14286\n",
      "88731\n",
      "Probability of clique given 2 connections:  0.16100348243567636\n"
     ]
    }
   ],
   "source": [
    "# FIND TRIPLES OF NEURONS a -> b <- c\n",
    "# for each neuron, find all the pairs of neurons it is connected\n",
    "pairs = []\n",
    "for i in range(probe1_371.shape[0]):\n",
    "    outgoing = np.nonzero(probe1_371[i])[0].tolist()\n",
    "    incoming = np.nonzero(probe1_371[:,i])[0]\n",
    "    together = np.unique(np.concatenate((outgoing, incoming),0))\n",
    "    pairs_i = [(a,b,i) for (a,b) in list(itertools.combinations(together, r=2))]\n",
    "    pairs += pairs_i\n",
    "\n",
    "pairs = [sorted(pair) for pair in pairs]\n",
    "trips = np.unique(pairs, axis=0)\n",
    "print(trips.shape)\n",
    "\n",
    "cliques = []\n",
    "for i in range(trips.shape[0]):\n",
    "    p,q,r = trips[i]\n",
    "    p,q,r = int(p), int(q), int(r)\n",
    "    if (abs(probe1_371[p,q]) > 0 or abs(probe1_371[q,p])) and (abs(probe1_371[p,r]) > 0 or abs(probe1_371[r,p])) and (abs(probe1_371[q,r]) > 0 or abs(probe1_371[r,q])):\n",
    "        cliques.append((p,q,r))\n",
    "\n",
    "print(len(cliques))\n",
    "print(trips.shape[0])\n",
    "print(\"Probability of clique given 2 connections: \", len(cliques)/trips.shape[0])"
   ]
  },
  {
   "cell_type": "code",
   "execution_count": 65,
   "metadata": {
    "tags": []
   },
   "outputs": [
    {
     "output_type": "stream",
     "name": "stdout",
     "text": [
      "(6333, 3)\n447\n6333\nProbability of clique given 2 connections:  0.07058266224538133\n"
     ]
    }
   ],
   "source": [
    "# FIND TRIPLES OF NEURONS a -> b <- c\n",
    "# for each neuron, find all the pairs of neurons it is connected, bidirectional connections\n",
    "pairs = []\n",
    "for i in range(probe1_371.shape[0]):\n",
    "    outgoing = np.nonzero(probe1_371[i])[0]\n",
    "    incoming = np.nonzero(probe1_371[:,i])[0]\n",
    "    together = np.intersect1d(outgoing, incoming)\n",
    "    pairs_i = [(a,b,i) for (a,b) in list(itertools.combinations(together, r=2))]\n",
    "    pairs += pairs_i\n",
    "#print(pairs)\n",
    "pairs = [sorted(pair) for pair in pairs]\n",
    "trips = np.unique(pairs, axis=0)\n",
    "print(trips.shape)\n",
    "\n",
    "cliques = []\n",
    "for i in range(trips.shape[0]):\n",
    "    p,q,r = trips[i]\n",
    "    p,q,r = int(p), int(q), int(r)\n",
    "    if (abs(probe1_371[p,q]) > 0 and abs(probe1_371[q,p])) and (abs(probe1_371[p,r]) > 0 and abs(probe1_371[r,p])) and (abs(probe1_371[q,r]) > 0 and abs(probe1_371[r,q])):\n",
    "        cliques.append((p,q,r))\n",
    "\n",
    "print(len(cliques))\n",
    "print(trips.shape[0])\n",
    "print(\"Probability of clique given 2 connections: \", len(cliques)/trips.shape[0])"
   ]
  },
  {
   "cell_type": "code",
   "execution_count": null,
   "metadata": {},
   "outputs": [],
   "source": []
  }
 ]
}